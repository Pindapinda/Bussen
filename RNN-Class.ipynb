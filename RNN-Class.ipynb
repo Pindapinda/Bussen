{
 "cells": [
  {
   "cell_type": "code",
   "execution_count": 1,
   "metadata": {
    "ExecuteTime": {
     "end_time": "2018-08-15T20:01:18.194946Z",
     "start_time": "2018-08-15T20:01:18.108108Z"
    }
   },
   "outputs": [],
   "source": [
    "# This is based on the RNN Tutorial file.\n",
    "import copy, numpy as np"
   ]
  },
  {
   "cell_type": "code",
   "execution_count": 4,
   "metadata": {
    "ExecuteTime": {
     "end_time": "2018-08-15T20:18:51.619769Z",
     "start_time": "2018-08-15T20:18:51.580736Z"
    }
   },
   "outputs": [],
   "source": [
    "# compute sigmoid nonlinearity\n",
    "def sigmoid(x):\n",
    "    output = 1/(1+np.exp(-x))\n",
    "    return output\n",
    "\n",
    "# convert output of sigmoid function to its derivative\n",
    "def sigmoid_output_to_derivative(output):\n",
    "    return output*(1-output)\n",
    "\n",
    "class RNN(object):\n",
    "    alpha = 0\n",
    "    synapses = [np.random.random((0,0)), np.random.random((0,0)), np.random.random((0,0))]\n",
    "    synapses_update = [np.zeros_like(synapses[0]), np.zeros_like(synapses[1]), np.zeros_like(synapses[2])]\n",
    "    \n",
    "    def __init__(self, alpha, input_dim, hidden_dim, output_dim):\n",
    "        self.alpha = alpha\n",
    "        synapse_ih = np.random.random((input_dim, hidden_dim))\n",
    "        synapse_hh = np.random.random((hidden_dim, hidden_dim))\n",
    "        synapse_hou = np.random.random((hidden_dim, outpu_dim))\n",
    "        synapse_ihu = np.zeros_like(synapse_ih)\n",
    "        synapse_hhu = np.zeros_like(synapse_hh)\n",
    "        synapse_hou = np.zeros_like(synapse_ho)\n",
    "        self.synapses = [synapse_ih, synapse_hh, synapse_hu]\n",
    "        synapses_update = [synapse_ihu, np.zeros_like(synapse_hh), synapse_hou] \n",
    "\n",
    "    #   This will correspond to a single iteration through the network.\n",
    "    def propagate(input):\n",
    "        "
   ]
  }
 ],
 "metadata": {
  "kernelspec": {
   "display_name": "Python 3",
   "language": "python",
   "name": "python3"
  },
  "language_info": {
   "codemirror_mode": {
    "name": "ipython",
    "version": 3
   },
   "file_extension": ".py",
   "mimetype": "text/x-python",
   "name": "python",
   "nbconvert_exporter": "python",
   "pygments_lexer": "ipython3",
   "version": "3.6.4"
  },
  "latex_envs": {
   "LaTeX_envs_menu_present": true,
   "autoclose": false,
   "autocomplete": true,
   "bibliofile": "biblio.bib",
   "cite_by": "apalike",
   "current_citInitial": 1,
   "eqLabelWithNumbers": true,
   "eqNumInitial": 1,
   "hotkeys": {
    "equation": "Ctrl-E",
    "itemize": "Ctrl-I"
   },
   "labels_anchors": false,
   "latex_user_defs": false,
   "report_style_numbering": false,
   "user_envs_cfg": false
  },
  "toc": {
   "nav_menu": {},
   "number_sections": false,
   "sideBar": true,
   "skip_h1_title": false,
   "toc_cell": false,
   "toc_position": {},
   "toc_section_display": "block",
   "toc_window_display": false
  },
  "varInspector": {
   "cols": {
    "lenName": 16,
    "lenType": 16,
    "lenVar": 40
   },
   "kernels_config": {
    "python": {
     "delete_cmd_postfix": "",
     "delete_cmd_prefix": "del ",
     "library": "var_list.py",
     "varRefreshCmd": "print(var_dic_list())"
    },
    "r": {
     "delete_cmd_postfix": ") ",
     "delete_cmd_prefix": "rm(",
     "library": "var_list.r",
     "varRefreshCmd": "cat(var_dic_list()) "
    }
   },
   "types_to_exclude": [
    "module",
    "function",
    "builtin_function_or_method",
    "instance",
    "_Feature"
   ],
   "window_display": false
  }
 },
 "nbformat": 4,
 "nbformat_minor": 2
}
